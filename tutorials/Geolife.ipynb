{
 "cells": [
  {
   "cell_type": "markdown",
   "metadata": {},
   "source": [
    "# First run the geolife.py script to generate trajectories"
   ]
  },
  {
   "cell_type": "code",
   "execution_count": 2,
   "metadata": {},
   "outputs": [],
   "source": [
    "#pragma cling add_include_path(\"/usr/src/movetk/tutorials\")"
   ]
  },
  {
   "cell_type": "code",
   "execution_count": 3,
   "metadata": {},
   "outputs": [],
   "source": [
    "#pragma cling add_include_path(\"/usr/local/include\")"
   ]
  },
  {
   "cell_type": "code",
   "execution_count": 4,
   "metadata": {},
   "outputs": [
    {
     "output_type": "stream",
     "name": "stderr",
     "text": [
      "In file included from input_line_9:1:\n",
      "In file included from /usr/src/movetk/tutorials/Geolife.h:21:\n",
      "In file included from /usr/local/include/movetk/io/ProbeReader.h:35:\n",
      "In file included from /miniconda/include/boost/iostreams/copy.hpp:26:\n",
      "\u001b[1m/miniconda/include/boost/bind.hpp:36:1: \u001b[0m\u001b[0;1;35mwarning: \u001b[0m\u001b[1mThe practice of declaring the Bind placeholders (_1, _2, ...) in the global namespace is deprecated. Please use\n",
      "      <boost/bind/bind.hpp> + using namespace boost::placeholders, or define BOOST_BIND_GLOBAL_PLACEHOLDERS to retain\n",
      "      the current behavior. [-W#pragma-messages]\u001b[0m\n",
      "BOOST_PRAGMA_MESSAGE(\n",
      "\u001b[0;1;32m^\n",
      "\u001b[0m\u001b[1m/miniconda/include/boost/config/pragma_message.hpp:24:34: \u001b[0m\u001b[0;1;30mnote: \u001b[0mexpanded from macro 'BOOST_PRAGMA_MESSAGE'\u001b[0m\n",
      "# define BOOST_PRAGMA_MESSAGE(x) _Pragma(BOOST_STRINGIZE(message(x)))\n",
      "\u001b[0;1;32m                                 ^\n",
      "\u001b[0m\u001b[1m<scratch space>:7:2: \u001b[0m\u001b[0;1;30mnote: \u001b[0mexpanded from here\u001b[0m\n",
      " message(\"The practice of declaring the Bind placeholders (_1, _2, ...) \" \"in the global namespace is deprecat...\n",
      "\u001b[0;1;32m ^\n",
      "\u001b[0mIn file included from input_line_9:1:\n",
      "\u001b[1m/usr/src/movetk/tutorials/Geolife.h:23:10: \u001b[0m\u001b[0;1;31mfatal error: \u001b[0m\u001b[1m'movetk/io/GeoJSONUtils.h' file not found\u001b[0m\n",
      "#include \"movetk/io/GeoJSONUtils.h\"\n",
      "\u001b[0;1;32m         ^~~~~~~~~~~~~~~~~~~~~~~~~~\n",
      "\u001b[0m"
     ]
    },
    {
     "output_type": "error",
     "ename": "Interpreter Error",
     "evalue": "",
     "traceback": [
      "Interpreter Error: "
     ]
    }
   ],
   "source": [
    "#include \"Geolife.h\""
   ]
  },
  {
   "cell_type": "code",
   "execution_count": 3,
   "metadata": {},
   "outputs": [
    {
     "data": {
      "text/html": [
       "<style>\n",
       "            #pager-container {\n",
       "                padding: 0;\n",
       "                margin: 0;\n",
       "                width: 100%;\n",
       "                height: 100%;\n",
       "            }\n",
       "            .xcpp-iframe-pager {\n",
       "                padding: 0;\n",
       "                margin: 0;\n",
       "                width: 100%;\n",
       "                height: 100%;\n",
       "                border: none;\n",
       "            }\n",
       "            </style>\n",
       "            <iframe class=\"xcpp-iframe-pager\" src=\"http://192.168.99.100/movetk.reference/class_probe_reader.html?action=purge\"></iframe>"
      ],
      "text/plain": [
       "http://192.168.99.100/movetk.reference/class_probe_reader.html"
      ]
     },
     "metadata": {},
     "output_type": "execute_result"
    }
   ],
   "source": [
    "?ProbeReader"
   ]
  },
  {
   "cell_type": "code",
   "execution_count": 4,
   "metadata": {},
   "outputs": [],
   "source": [
    "// Create trajectory reader\n",
    "std::unique_ptr<ProbeReader<ProbeTraits>> probe_reader;"
   ]
  },
  {
   "cell_type": "code",
   "execution_count": 5,
   "metadata": {},
   "outputs": [],
   "source": [
    "std::string fName = \"/usr/src/movetk/tutorials/out/117.csv\";"
   ]
  },
  {
   "cell_type": "code",
   "execution_count": 6,
   "metadata": {},
   "outputs": [],
   "source": [
    "probe_reader = ProbeReaderFactory::create<ProbeTraits>(fName.c_str());"
   ]
  },
  {
   "cell_type": "code",
   "execution_count": 7,
   "metadata": {},
   "outputs": [
    {
     "data": {
      "text/html": [
       "<style>\n",
       "            #pager-container {\n",
       "                padding: 0;\n",
       "                margin: 0;\n",
       "                width: 100%;\n",
       "                height: 100%;\n",
       "            }\n",
       "            .xcpp-iframe-pager {\n",
       "                padding: 0;\n",
       "                margin: 0;\n",
       "                width: 100%;\n",
       "                height: 100%;\n",
       "                border: none;\n",
       "            }\n",
       "            </style>\n",
       "            <iframe class=\"xcpp-iframe-pager\" src=\"http://192.168.99.100/movetk.reference/class_trajectory_reader.html?action=purge\"></iframe>"
      ],
      "text/plain": [
       "http://192.168.99.100/movetk.reference/class_trajectory_reader.html"
      ]
     },
     "metadata": {},
     "output_type": "execute_result"
    }
   ],
   "source": [
    "?TrajectoryReader"
   ]
  },
  {
   "cell_type": "code",
   "execution_count": 8,
   "metadata": {},
   "outputs": [],
   "source": [
    "//type of probe iterator\n",
    "using ProbeInputIterator = decltype(probe_reader->begin());"
   ]
  },
  {
   "cell_type": "code",
   "execution_count": 9,
   "metadata": {},
   "outputs": [],
   "source": [
    "auto trajectory_reader = TrajectoryReader<TrajectoryTraits, ProbeInputIterator>(probe_reader->begin(), probe_reader->end());"
   ]
  },
  {
   "cell_type": "code",
   "execution_count": 11,
   "metadata": {},
   "outputs": [],
   "source": [
    "std::cout<<\"{\\\"type\\\":\\\"FeatureCollection\\\",\\\"features\\\":[\";\n",
    "\n",
    "for (auto tit = trajectory_reader.begin(); tit!= trajectory_reader.end();){\n",
    "    auto trajectory = *tit;\n",
    "    if (trajectory.size() == 1)\n",
    "    {\n",
    "            ++tit;\n",
    "            continue;\n",
    "    }\n",
    "   //write GeoJSON\n",
    "   GeoJSONGeometry geom;\n",
    "   GeoJSONProperties prop;\n",
    "   GeoJSONFeature feat;\n",
    "   auto lats = trajectory.template get<ProbeTraits::ProbeColumns::LAT>();\n",
    "   auto lons = trajectory.template get<ProbeTraits::ProbeColumns::LON>();\n",
    "   rapidjson::Document geometry = geom(std::begin(lats), std::end(lats),\n",
    "                                        std::begin(lons));\n",
    "    \n",
    "   rapidjson::Document properties = prop();\n",
    "    \n",
    "   rapidjson::Document feature = feat(geometry, properties);\n",
    "   rapidjson::StringBuffer strbuf;\n",
    "   rapidjson::Writer<rapidjson::StringBuffer> writer(strbuf);\n",
    "   feature.Accept(writer);\n",
    "   std::cout << strbuf.GetString();\n",
    "   strbuf.Clear();  \n",
    "   \n",
    "    if (++tit == trajectory_reader.end())\n",
    "            continue;\n",
    "    else\n",
    "            std::cout << \",\";\n",
    "}\n",
    "\n",
    "std::cout << \"]}\" << std::endl;"
   ]
  }
 ],
 "metadata": {
  "kernelspec": {
   "display_name": "C++17",
   "language": "C++17",
   "name": "xcpp17"
  },
  "language_info": {
   "codemirror_mode": "text/x-c++src",
   "file_extension": ".cpp",
   "mimetype": "text/x-c++src",
   "name": "c++",
   "version": "-std=c++17"
  }
 },
 "nbformat": 4,
 "nbformat_minor": 0
}